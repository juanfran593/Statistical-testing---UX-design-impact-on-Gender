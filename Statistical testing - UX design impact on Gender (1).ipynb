{
 "cells": [
  {
   "cell_type": "markdown",
   "id": "7b2449fb",
   "metadata": {},
   "source": [
    "# Statistical testing - UX impact on Gender"
   ]
  },
  {
   "cell_type": "code",
   "execution_count": 43,
   "id": "99cd165b",
   "metadata": {},
   "outputs": [],
   "source": [
    "import pandas as pd \n",
    "import matplotlib.pyplot as plt \n",
    "import numpy as np"
   ]
  },
  {
   "cell_type": "markdown",
   "id": "aa869d79",
   "metadata": {},
   "source": [
    "Load the brain_size.csv dataset on a pandas DataFrame. Notice that a normal pd.read_csv won't work because the separators aren't commas, and beware of null values. This is the expected output of df.dtypes:\n"
   ]
  },
  {
   "cell_type": "code",
   "execution_count": 44,
   "id": "e1c544db",
   "metadata": {},
   "outputs": [
    {
     "data": {
      "text/html": [
       "<div>\n",
       "<style scoped>\n",
       "    .dataframe tbody tr th:only-of-type {\n",
       "        vertical-align: middle;\n",
       "    }\n",
       "\n",
       "    .dataframe tbody tr th {\n",
       "        vertical-align: top;\n",
       "    }\n",
       "\n",
       "    .dataframe thead th {\n",
       "        text-align: right;\n",
       "    }\n",
       "</style>\n",
       "<table border=\"1\" class=\"dataframe\">\n",
       "  <thead>\n",
       "    <tr style=\"text-align: right;\">\n",
       "      <th></th>\n",
       "      <th>Gender</th>\n",
       "      <th>FSIQ</th>\n",
       "      <th>VIQ</th>\n",
       "      <th>PIQ</th>\n",
       "      <th>Weight</th>\n",
       "      <th>Height</th>\n",
       "      <th>MRI_Count</th>\n",
       "    </tr>\n",
       "  </thead>\n",
       "  <tbody>\n",
       "    <tr>\n",
       "      <th>1</th>\n",
       "      <td>Female</td>\n",
       "      <td>133</td>\n",
       "      <td>132</td>\n",
       "      <td>124</td>\n",
       "      <td>118</td>\n",
       "      <td>64.5</td>\n",
       "      <td>816932</td>\n",
       "    </tr>\n",
       "    <tr>\n",
       "      <th>2</th>\n",
       "      <td>Male</td>\n",
       "      <td>140</td>\n",
       "      <td>150</td>\n",
       "      <td>124</td>\n",
       "      <td>.</td>\n",
       "      <td>72.5</td>\n",
       "      <td>1001121</td>\n",
       "    </tr>\n",
       "    <tr>\n",
       "      <th>3</th>\n",
       "      <td>Male</td>\n",
       "      <td>139</td>\n",
       "      <td>123</td>\n",
       "      <td>150</td>\n",
       "      <td>143</td>\n",
       "      <td>73.3</td>\n",
       "      <td>1038437</td>\n",
       "    </tr>\n",
       "    <tr>\n",
       "      <th>4</th>\n",
       "      <td>Male</td>\n",
       "      <td>133</td>\n",
       "      <td>129</td>\n",
       "      <td>128</td>\n",
       "      <td>172</td>\n",
       "      <td>68.8</td>\n",
       "      <td>965353</td>\n",
       "    </tr>\n",
       "    <tr>\n",
       "      <th>5</th>\n",
       "      <td>Female</td>\n",
       "      <td>137</td>\n",
       "      <td>132</td>\n",
       "      <td>134</td>\n",
       "      <td>147</td>\n",
       "      <td>65.0</td>\n",
       "      <td>951545</td>\n",
       "    </tr>\n",
       "  </tbody>\n",
       "</table>\n",
       "</div>"
      ],
      "text/plain": [
       "   Gender  FSIQ  VIQ  PIQ Weight Height  MRI_Count\n",
       "1  Female   133  132  124    118   64.5     816932\n",
       "2    Male   140  150  124      .   72.5    1001121\n",
       "3    Male   139  123  150    143   73.3    1038437\n",
       "4    Male   133  129  128    172   68.8     965353\n",
       "5  Female   137  132  134    147   65.0     951545"
      ]
     },
     "execution_count": 44,
     "metadata": {},
     "output_type": "execute_result"
    }
   ],
   "source": [
    "df = pd.read_csv('brain_size.csv', sep=';', index_col=0) \n",
    "df.head() "
   ]
  },
  {
   "cell_type": "code",
   "execution_count": 45,
   "id": "a0875305",
   "metadata": {},
   "outputs": [
    {
     "data": {
      "text/plain": [
       "Gender       object\n",
       "FSIQ          int64\n",
       "VIQ           int64\n",
       "PIQ           int64\n",
       "Weight       object\n",
       "Height       object\n",
       "MRI_Count     int64\n",
       "dtype: object"
      ]
     },
     "execution_count": 45,
     "metadata": {},
     "output_type": "execute_result"
    }
   ],
   "source": [
    "df.dtypes # Checking if columns have  object values"
   ]
  },
  {
   "cell_type": "code",
   "execution_count": 46,
   "id": "cdb61769",
   "metadata": {},
   "outputs": [
    {
     "data": {
      "text/html": [
       "<div>\n",
       "<style scoped>\n",
       "    .dataframe tbody tr th:only-of-type {\n",
       "        vertical-align: middle;\n",
       "    }\n",
       "\n",
       "    .dataframe tbody tr th {\n",
       "        vertical-align: top;\n",
       "    }\n",
       "\n",
       "    .dataframe thead th {\n",
       "        text-align: right;\n",
       "    }\n",
       "</style>\n",
       "<table border=\"1\" class=\"dataframe\">\n",
       "  <thead>\n",
       "    <tr style=\"text-align: right;\">\n",
       "      <th></th>\n",
       "      <th>FSIQ</th>\n",
       "      <th>VIQ</th>\n",
       "      <th>PIQ</th>\n",
       "      <th>MRI_Count</th>\n",
       "    </tr>\n",
       "  </thead>\n",
       "  <tbody>\n",
       "    <tr>\n",
       "      <th>count</th>\n",
       "      <td>40.000000</td>\n",
       "      <td>40.000000</td>\n",
       "      <td>40.00000</td>\n",
       "      <td>4.000000e+01</td>\n",
       "    </tr>\n",
       "    <tr>\n",
       "      <th>mean</th>\n",
       "      <td>113.450000</td>\n",
       "      <td>112.350000</td>\n",
       "      <td>111.02500</td>\n",
       "      <td>9.087550e+05</td>\n",
       "    </tr>\n",
       "    <tr>\n",
       "      <th>std</th>\n",
       "      <td>24.082071</td>\n",
       "      <td>23.616107</td>\n",
       "      <td>22.47105</td>\n",
       "      <td>7.228205e+04</td>\n",
       "    </tr>\n",
       "    <tr>\n",
       "      <th>min</th>\n",
       "      <td>77.000000</td>\n",
       "      <td>71.000000</td>\n",
       "      <td>72.00000</td>\n",
       "      <td>7.906190e+05</td>\n",
       "    </tr>\n",
       "    <tr>\n",
       "      <th>25%</th>\n",
       "      <td>89.750000</td>\n",
       "      <td>90.000000</td>\n",
       "      <td>88.25000</td>\n",
       "      <td>8.559185e+05</td>\n",
       "    </tr>\n",
       "    <tr>\n",
       "      <th>50%</th>\n",
       "      <td>116.500000</td>\n",
       "      <td>113.000000</td>\n",
       "      <td>115.00000</td>\n",
       "      <td>9.053990e+05</td>\n",
       "    </tr>\n",
       "    <tr>\n",
       "      <th>75%</th>\n",
       "      <td>135.500000</td>\n",
       "      <td>129.750000</td>\n",
       "      <td>128.00000</td>\n",
       "      <td>9.500780e+05</td>\n",
       "    </tr>\n",
       "    <tr>\n",
       "      <th>max</th>\n",
       "      <td>144.000000</td>\n",
       "      <td>150.000000</td>\n",
       "      <td>150.00000</td>\n",
       "      <td>1.079549e+06</td>\n",
       "    </tr>\n",
       "  </tbody>\n",
       "</table>\n",
       "</div>"
      ],
      "text/plain": [
       "             FSIQ         VIQ        PIQ     MRI_Count\n",
       "count   40.000000   40.000000   40.00000  4.000000e+01\n",
       "mean   113.450000  112.350000  111.02500  9.087550e+05\n",
       "std     24.082071   23.616107   22.47105  7.228205e+04\n",
       "min     77.000000   71.000000   72.00000  7.906190e+05\n",
       "25%     89.750000   90.000000   88.25000  8.559185e+05\n",
       "50%    116.500000  113.000000  115.00000  9.053990e+05\n",
       "75%    135.500000  129.750000  128.00000  9.500780e+05\n",
       "max    144.000000  150.000000  150.00000  1.079549e+06"
      ]
     },
     "execution_count": 46,
     "metadata": {},
     "output_type": "execute_result"
    }
   ],
   "source": [
    "df.describe()"
   ]
  },
  {
   "cell_type": "code",
   "execution_count": 47,
   "id": "66f1a7b3",
   "metadata": {},
   "outputs": [],
   "source": [
    "# Data cleaning \".\", filling them with the average of the column"
   ]
  },
  {
   "cell_type": "code",
   "execution_count": 48,
   "id": "564c53f6",
   "metadata": {},
   "outputs": [
    {
     "data": {
      "text/html": [
       "<div>\n",
       "<style scoped>\n",
       "    .dataframe tbody tr th:only-of-type {\n",
       "        vertical-align: middle;\n",
       "    }\n",
       "\n",
       "    .dataframe tbody tr th {\n",
       "        vertical-align: top;\n",
       "    }\n",
       "\n",
       "    .dataframe thead th {\n",
       "        text-align: right;\n",
       "    }\n",
       "</style>\n",
       "<table border=\"1\" class=\"dataframe\">\n",
       "  <thead>\n",
       "    <tr style=\"text-align: right;\">\n",
       "      <th></th>\n",
       "      <th>Gender</th>\n",
       "      <th>FSIQ</th>\n",
       "      <th>VIQ</th>\n",
       "      <th>PIQ</th>\n",
       "      <th>Weight</th>\n",
       "      <th>Height</th>\n",
       "      <th>MRI_Count</th>\n",
       "    </tr>\n",
       "  </thead>\n",
       "  <tbody>\n",
       "    <tr>\n",
       "      <th>21</th>\n",
       "      <td>Male</td>\n",
       "      <td>83</td>\n",
       "      <td>83</td>\n",
       "      <td>86</td>\n",
       "      <td>.</td>\n",
       "      <td>.</td>\n",
       "      <td>892420</td>\n",
       "    </tr>\n",
       "  </tbody>\n",
       "</table>\n",
       "</div>"
      ],
      "text/plain": [
       "   Gender  FSIQ  VIQ  PIQ Weight Height  MRI_Count\n",
       "21   Male    83   83   86      .      .     892420"
      ]
     },
     "execution_count": 48,
     "metadata": {},
     "output_type": "execute_result"
    }
   ],
   "source": [
    "df.loc[(df['Height'] =='.')]"
   ]
  },
  {
   "cell_type": "code",
   "execution_count": 49,
   "id": "8d44f42a",
   "metadata": {},
   "outputs": [
    {
     "data": {
      "text/html": [
       "<div>\n",
       "<style scoped>\n",
       "    .dataframe tbody tr th:only-of-type {\n",
       "        vertical-align: middle;\n",
       "    }\n",
       "\n",
       "    .dataframe tbody tr th {\n",
       "        vertical-align: top;\n",
       "    }\n",
       "\n",
       "    .dataframe thead th {\n",
       "        text-align: right;\n",
       "    }\n",
       "</style>\n",
       "<table border=\"1\" class=\"dataframe\">\n",
       "  <thead>\n",
       "    <tr style=\"text-align: right;\">\n",
       "      <th></th>\n",
       "      <th>Gender</th>\n",
       "      <th>FSIQ</th>\n",
       "      <th>VIQ</th>\n",
       "      <th>PIQ</th>\n",
       "      <th>Weight</th>\n",
       "      <th>Height</th>\n",
       "      <th>MRI_Count</th>\n",
       "    </tr>\n",
       "  </thead>\n",
       "  <tbody>\n",
       "    <tr>\n",
       "      <th>2</th>\n",
       "      <td>Male</td>\n",
       "      <td>140</td>\n",
       "      <td>150</td>\n",
       "      <td>124</td>\n",
       "      <td>.</td>\n",
       "      <td>72.5</td>\n",
       "      <td>1001121</td>\n",
       "    </tr>\n",
       "    <tr>\n",
       "      <th>21</th>\n",
       "      <td>Male</td>\n",
       "      <td>83</td>\n",
       "      <td>83</td>\n",
       "      <td>86</td>\n",
       "      <td>.</td>\n",
       "      <td>.</td>\n",
       "      <td>892420</td>\n",
       "    </tr>\n",
       "  </tbody>\n",
       "</table>\n",
       "</div>"
      ],
      "text/plain": [
       "   Gender  FSIQ  VIQ  PIQ Weight Height  MRI_Count\n",
       "2    Male   140  150  124      .   72.5    1001121\n",
       "21   Male    83   83   86      .      .     892420"
      ]
     },
     "execution_count": 49,
     "metadata": {},
     "output_type": "execute_result"
    }
   ],
   "source": [
    "df.loc[(df['Weight'] =='.')]"
   ]
  },
  {
   "cell_type": "code",
   "execution_count": 50,
   "id": "090f52e7",
   "metadata": {},
   "outputs": [],
   "source": [
    "# Replacing the \".\" values with na "
   ]
  },
  {
   "cell_type": "code",
   "execution_count": 51,
   "id": "06ce0c6f",
   "metadata": {},
   "outputs": [
    {
     "data": {
      "text/html": [
       "<div>\n",
       "<style scoped>\n",
       "    .dataframe tbody tr th:only-of-type {\n",
       "        vertical-align: middle;\n",
       "    }\n",
       "\n",
       "    .dataframe tbody tr th {\n",
       "        vertical-align: top;\n",
       "    }\n",
       "\n",
       "    .dataframe thead th {\n",
       "        text-align: right;\n",
       "    }\n",
       "</style>\n",
       "<table border=\"1\" class=\"dataframe\">\n",
       "  <thead>\n",
       "    <tr style=\"text-align: right;\">\n",
       "      <th></th>\n",
       "      <th>Gender</th>\n",
       "      <th>FSIQ</th>\n",
       "      <th>VIQ</th>\n",
       "      <th>PIQ</th>\n",
       "      <th>Weight</th>\n",
       "      <th>Height</th>\n",
       "      <th>MRI_Count</th>\n",
       "    </tr>\n",
       "  </thead>\n",
       "  <tbody>\n",
       "    <tr>\n",
       "      <th>1</th>\n",
       "      <td>Female</td>\n",
       "      <td>133</td>\n",
       "      <td>132</td>\n",
       "      <td>124</td>\n",
       "      <td>118</td>\n",
       "      <td>64.5</td>\n",
       "      <td>816932</td>\n",
       "    </tr>\n",
       "    <tr>\n",
       "      <th>2</th>\n",
       "      <td>Male</td>\n",
       "      <td>140</td>\n",
       "      <td>150</td>\n",
       "      <td>124</td>\n",
       "      <td>NaN</td>\n",
       "      <td>72.5</td>\n",
       "      <td>1001121</td>\n",
       "    </tr>\n",
       "    <tr>\n",
       "      <th>3</th>\n",
       "      <td>Male</td>\n",
       "      <td>139</td>\n",
       "      <td>123</td>\n",
       "      <td>150</td>\n",
       "      <td>143</td>\n",
       "      <td>73.3</td>\n",
       "      <td>1038437</td>\n",
       "    </tr>\n",
       "    <tr>\n",
       "      <th>4</th>\n",
       "      <td>Male</td>\n",
       "      <td>133</td>\n",
       "      <td>129</td>\n",
       "      <td>128</td>\n",
       "      <td>172</td>\n",
       "      <td>68.8</td>\n",
       "      <td>965353</td>\n",
       "    </tr>\n",
       "    <tr>\n",
       "      <th>5</th>\n",
       "      <td>Female</td>\n",
       "      <td>137</td>\n",
       "      <td>132</td>\n",
       "      <td>134</td>\n",
       "      <td>147</td>\n",
       "      <td>65.0</td>\n",
       "      <td>951545</td>\n",
       "    </tr>\n",
       "  </tbody>\n",
       "</table>\n",
       "</div>"
      ],
      "text/plain": [
       "   Gender  FSIQ  VIQ  PIQ Weight Height  MRI_Count\n",
       "1  Female   133  132  124    118   64.5     816932\n",
       "2    Male   140  150  124    NaN   72.5    1001121\n",
       "3    Male   139  123  150    143   73.3    1038437\n",
       "4    Male   133  129  128    172   68.8     965353\n",
       "5  Female   137  132  134    147   65.0     951545"
      ]
     },
     "execution_count": 51,
     "metadata": {},
     "output_type": "execute_result"
    }
   ],
   "source": [
    "df['Weight'] = df['Weight'].replace('.', np.nan) \n",
    "df['Height'] = df['Height'].replace('.', np.nan) \n",
    "df.head()"
   ]
  },
  {
   "cell_type": "code",
   "execution_count": 52,
   "id": "043fd3a6",
   "metadata": {},
   "outputs": [],
   "source": [
    "# Transforming \"Height\" and \"Weight\"columns in int values"
   ]
  },
  {
   "cell_type": "code",
   "execution_count": 53,
   "id": "45692810",
   "metadata": {},
   "outputs": [
    {
     "data": {
      "text/html": [
       "<div>\n",
       "<style scoped>\n",
       "    .dataframe tbody tr th:only-of-type {\n",
       "        vertical-align: middle;\n",
       "    }\n",
       "\n",
       "    .dataframe tbody tr th {\n",
       "        vertical-align: top;\n",
       "    }\n",
       "\n",
       "    .dataframe thead th {\n",
       "        text-align: right;\n",
       "    }\n",
       "</style>\n",
       "<table border=\"1\" class=\"dataframe\">\n",
       "  <thead>\n",
       "    <tr style=\"text-align: right;\">\n",
       "      <th></th>\n",
       "      <th>Gender</th>\n",
       "      <th>FSIQ</th>\n",
       "      <th>VIQ</th>\n",
       "      <th>PIQ</th>\n",
       "      <th>Weight</th>\n",
       "      <th>Height</th>\n",
       "      <th>MRI_Count</th>\n",
       "    </tr>\n",
       "  </thead>\n",
       "  <tbody>\n",
       "    <tr>\n",
       "      <th>1</th>\n",
       "      <td>Female</td>\n",
       "      <td>133</td>\n",
       "      <td>132</td>\n",
       "      <td>124</td>\n",
       "      <td>118.0</td>\n",
       "      <td>64.5</td>\n",
       "      <td>816932</td>\n",
       "    </tr>\n",
       "    <tr>\n",
       "      <th>2</th>\n",
       "      <td>Male</td>\n",
       "      <td>140</td>\n",
       "      <td>150</td>\n",
       "      <td>124</td>\n",
       "      <td>NaN</td>\n",
       "      <td>72.5</td>\n",
       "      <td>1001121</td>\n",
       "    </tr>\n",
       "    <tr>\n",
       "      <th>3</th>\n",
       "      <td>Male</td>\n",
       "      <td>139</td>\n",
       "      <td>123</td>\n",
       "      <td>150</td>\n",
       "      <td>143.0</td>\n",
       "      <td>73.3</td>\n",
       "      <td>1038437</td>\n",
       "    </tr>\n",
       "    <tr>\n",
       "      <th>4</th>\n",
       "      <td>Male</td>\n",
       "      <td>133</td>\n",
       "      <td>129</td>\n",
       "      <td>128</td>\n",
       "      <td>172.0</td>\n",
       "      <td>68.8</td>\n",
       "      <td>965353</td>\n",
       "    </tr>\n",
       "    <tr>\n",
       "      <th>5</th>\n",
       "      <td>Female</td>\n",
       "      <td>137</td>\n",
       "      <td>132</td>\n",
       "      <td>134</td>\n",
       "      <td>147.0</td>\n",
       "      <td>65.0</td>\n",
       "      <td>951545</td>\n",
       "    </tr>\n",
       "  </tbody>\n",
       "</table>\n",
       "</div>"
      ],
      "text/plain": [
       "   Gender  FSIQ  VIQ  PIQ  Weight  Height  MRI_Count\n",
       "1  Female   133  132  124   118.0    64.5     816932\n",
       "2    Male   140  150  124     NaN    72.5    1001121\n",
       "3    Male   139  123  150   143.0    73.3    1038437\n",
       "4    Male   133  129  128   172.0    68.8     965353\n",
       "5  Female   137  132  134   147.0    65.0     951545"
      ]
     },
     "execution_count": 53,
     "metadata": {},
     "output_type": "execute_result"
    }
   ],
   "source": [
    "df['Weight'] = df['Weight'].astype(float) \n",
    "df['Height'] = df['Height'].astype(float) \n",
    "df.head()"
   ]
  },
  {
   "cell_type": "code",
   "execution_count": 54,
   "id": "38d5227c",
   "metadata": {},
   "outputs": [
    {
     "data": {
      "text/plain": [
       "count     40.000000\n",
       "mean     151.052632\n",
       "std       22.868574\n",
       "min      106.000000\n",
       "25%      135.750000\n",
       "50%      147.500000\n",
       "75%      172.000000\n",
       "max      192.000000\n",
       "Name: Weight, dtype: float64"
      ]
     },
     "execution_count": 54,
     "metadata": {},
     "output_type": "execute_result"
    }
   ],
   "source": [
    "# Replacing the NaN values with the mean of the column \n",
    "df['Weight'].fillna(df['Weight'].mean(), inplace=True)\n",
    "df['Height'].fillna(df['Height'].mean(), inplace=True)\n",
    "df['Weight'].describe()"
   ]
  },
  {
   "cell_type": "code",
   "execution_count": 55,
   "id": "7219ff66",
   "metadata": {},
   "outputs": [
    {
     "data": {
      "text/html": [
       "<div>\n",
       "<style scoped>\n",
       "    .dataframe tbody tr th:only-of-type {\n",
       "        vertical-align: middle;\n",
       "    }\n",
       "\n",
       "    .dataframe tbody tr th {\n",
       "        vertical-align: top;\n",
       "    }\n",
       "\n",
       "    .dataframe thead th {\n",
       "        text-align: right;\n",
       "    }\n",
       "</style>\n",
       "<table border=\"1\" class=\"dataframe\">\n",
       "  <thead>\n",
       "    <tr style=\"text-align: right;\">\n",
       "      <th></th>\n",
       "      <th>Gender</th>\n",
       "      <th>FSIQ</th>\n",
       "      <th>VIQ</th>\n",
       "      <th>PIQ</th>\n",
       "      <th>Weight</th>\n",
       "      <th>Height</th>\n",
       "      <th>MRI_Count</th>\n",
       "    </tr>\n",
       "  </thead>\n",
       "  <tbody>\n",
       "    <tr>\n",
       "      <th>1</th>\n",
       "      <td>Female</td>\n",
       "      <td>133</td>\n",
       "      <td>132</td>\n",
       "      <td>124</td>\n",
       "      <td>118.000000</td>\n",
       "      <td>64.5</td>\n",
       "      <td>816932</td>\n",
       "    </tr>\n",
       "    <tr>\n",
       "      <th>2</th>\n",
       "      <td>Male</td>\n",
       "      <td>140</td>\n",
       "      <td>150</td>\n",
       "      <td>124</td>\n",
       "      <td>151.052632</td>\n",
       "      <td>72.5</td>\n",
       "      <td>1001121</td>\n",
       "    </tr>\n",
       "    <tr>\n",
       "      <th>3</th>\n",
       "      <td>Male</td>\n",
       "      <td>139</td>\n",
       "      <td>123</td>\n",
       "      <td>150</td>\n",
       "      <td>143.000000</td>\n",
       "      <td>73.3</td>\n",
       "      <td>1038437</td>\n",
       "    </tr>\n",
       "    <tr>\n",
       "      <th>4</th>\n",
       "      <td>Male</td>\n",
       "      <td>133</td>\n",
       "      <td>129</td>\n",
       "      <td>128</td>\n",
       "      <td>172.000000</td>\n",
       "      <td>68.8</td>\n",
       "      <td>965353</td>\n",
       "    </tr>\n",
       "    <tr>\n",
       "      <th>5</th>\n",
       "      <td>Female</td>\n",
       "      <td>137</td>\n",
       "      <td>132</td>\n",
       "      <td>134</td>\n",
       "      <td>147.000000</td>\n",
       "      <td>65.0</td>\n",
       "      <td>951545</td>\n",
       "    </tr>\n",
       "  </tbody>\n",
       "</table>\n",
       "</div>"
      ],
      "text/plain": [
       "   Gender  FSIQ  VIQ  PIQ      Weight  Height  MRI_Count\n",
       "1  Female   133  132  124  118.000000    64.5     816932\n",
       "2    Male   140  150  124  151.052632    72.5    1001121\n",
       "3    Male   139  123  150  143.000000    73.3    1038437\n",
       "4    Male   133  129  128  172.000000    68.8     965353\n",
       "5  Female   137  132  134  147.000000    65.0     951545"
      ]
     },
     "execution_count": 55,
     "metadata": {},
     "output_type": "execute_result"
    }
   ],
   "source": [
    "df.head()"
   ]
  },
  {
   "cell_type": "code",
   "execution_count": 56,
   "id": "399847c8",
   "metadata": {},
   "outputs": [
    {
     "data": {
      "text/plain": [
       "Gender        object\n",
       "FSIQ           int64\n",
       "VIQ            int64\n",
       "PIQ            int64\n",
       "Weight       float64\n",
       "Height       float64\n",
       "MRI_Count      int64\n",
       "dtype: object"
      ]
     },
     "execution_count": 56,
     "metadata": {},
     "output_type": "execute_result"
    }
   ],
   "source": [
    "df.dtypes # Df cleaned with Float instead of Object - Ready to run plots"
   ]
  },
  {
   "cell_type": "markdown",
   "id": "52b1f0de",
   "metadata": {},
   "source": [
    "### Plot the histogram and kernel density estimation of the Verbal IQ (VIQ), both in the same axes. Pay attention to the y scale, and adapt the code accordingly."
   ]
  },
  {
   "cell_type": "code",
   "execution_count": 85,
   "id": "f6923453",
   "metadata": {},
   "outputs": [
    {
     "data": {
      "text/plain": [
       "<matplotlib.legend.Legend at 0x7fe763ac1df0>"
      ]
     },
     "execution_count": 85,
     "metadata": {},
     "output_type": "execute_result"
    },
    {
     "data": {
      "image/png": "[encoded data removed]",
      "text/plain": [
       "<Figure size 720x216 with 2 Axes>"
      ]
     },
     "metadata": {
      "needs_background": "light"
     },
     "output_type": "display_data"
    }
   ],
   "source": [
    "fig, ax = plt.subplots(figsize= (10,3)) \n",
    " \n",
    "df[\"VIQ\"].plot.hist(alpha=1, density = True, color = \"gray\") \n",
    "ax_kde = ax.twinx() \n",
    "df[\"VIQ\"].plot.kde(label = \"VIQ KDE\", ax=ax_kde, color= \"gray\") \n",
    "ax.legend(loc=2) \n",
    "ax_kde.legend(loc=1) "
   ]
  },
  {
   "cell_type": "markdown",
   "id": "190a5e80",
   "metadata": {},
   "source": [
    "### Repeat the same plot, but arrange the Verbal IQ (VIQ), Performance IQ (PIQ), and Full-scale IQ (FSIQ) in a 1x3 grid (1 row, 3 columns)"
   ]
  },
  {
   "cell_type": "code",
   "execution_count": 91,
   "id": "e8498d3b",
   "metadata": {},
   "outputs": [
    {
     "data": {
      "text/plain": [
       "<matplotlib.legend.Legend at 0x7fe76abc4340>"
      ]
     },
     "execution_count": 91,
     "metadata": {},
     "output_type": "execute_result"
    },
    {
     "data": {
      "image/png": "[encoded data removed]",
      "text/plain": [
       "<Figure size 1440x432 with 3 Axes>"
      ]
     },
     "metadata": {
      "needs_background": "light"
     },
     "output_type": "display_data"
    }
   ],
   "source": [
    "fig, axes = plt.subplots(nrows=1, ncols=3, figsize=(20, 6))\n",
    " \n",
    " \n",
    " \n",
    "df['VIQ'].plot.kde(ax=axes[0])\n",
    " \n",
    "df['VIQ'].hist(alpha=1, density=True, ax=axes[0], color='gray')\n",
    " \n",
    " \n",
    "axes[0].legend()\n",
    " \n",
    " \n",
    "df['PIQ'].plot.kde(ax=axes[1])\n",
    " \n",
    "df['PIQ'].hist(alpha=1,density=True, ax=axes[1], color='orange')\n",
    " \n",
    " \n",
    "axes[1].legend()\n",
    " \n",
    " \n",
    "df['FSIQ'].plot.kde(ax=axes[2])\n",
    " \n",
    "df['FSIQ'].hist(alpha=1, density=True, ax=axes[2], color='blue')\n",
    "\n",
    "axes[2].legend()"
   ]
  },
  {
   "cell_type": "markdown",
   "id": "bab66b1d",
   "metadata": {},
   "source": [
    "### Compute the mean VIQ for men and women. Which one is higher, numerically?"
   ]
  },
  {
   "cell_type": "code",
   "execution_count": 96,
   "id": "9005689c",
   "metadata": {},
   "outputs": [
    {
     "data": {
      "text/html": [
       "<div>\n",
       "<style scoped>\n",
       "    .dataframe tbody tr th:only-of-type {\n",
       "        vertical-align: middle;\n",
       "    }\n",
       "\n",
       "    .dataframe tbody tr th {\n",
       "        vertical-align: top;\n",
       "    }\n",
       "\n",
       "    .dataframe thead th {\n",
       "        text-align: right;\n",
       "    }\n",
       "</style>\n",
       "<table border=\"1\" class=\"dataframe\">\n",
       "  <thead>\n",
       "    <tr style=\"text-align: right;\">\n",
       "      <th></th>\n",
       "      <th>VIQ</th>\n",
       "    </tr>\n",
       "    <tr>\n",
       "      <th>Gender</th>\n",
       "      <th></th>\n",
       "    </tr>\n",
       "  </thead>\n",
       "  <tbody>\n",
       "    <tr>\n",
       "      <th>Female</th>\n",
       "      <td>109.45</td>\n",
       "    </tr>\n",
       "    <tr>\n",
       "      <th>Male</th>\n",
       "      <td>115.25</td>\n",
       "    </tr>\n",
       "  </tbody>\n",
       "</table>\n",
       "</div>"
      ],
      "text/plain": [
       "           VIQ\n",
       "Gender        \n",
       "Female  109.45\n",
       "Male    115.25"
      ]
     },
     "execution_count": 96,
     "metadata": {},
     "output_type": "execute_result"
    }
   ],
   "source": [
    "df['VIQ'].groupby(df['Gender']).mean().to_frame()"
   ]
  },
  {
   "cell_type": "markdown",
   "id": "d6ce3ada",
   "metadata": {},
   "source": [
    "### Is there enough evidence to conclude that gender influences the VIQ? Compute a T-test using `scipy.stats.ttest_ind` to find out. Display the p-value and write down your conclusion in plain English (i.e. spell the meaning of the resulting p-value)."
   ]
  },
  {
   "cell_type": "code",
   "execution_count": 97,
   "id": "0fed4069",
   "metadata": {},
   "outputs": [],
   "source": []
  },
  {
   "cell_type": "code",
   "execution_count": 113,
   "id": "2de2b039",
   "metadata": {},
   "outputs": [
    {
     "data": {
      "text/plain": [
       "2     150\n",
       "3     123\n",
       "4     129\n",
       "9      93\n",
       "10    114\n",
       "12    150\n",
       "13    129\n",
       "18     96\n",
       "20     77\n",
       "21     83\n",
       "22    107\n",
       "24    145\n",
       "26    145\n",
       "28     96\n",
       "32    145\n",
       "33     96\n",
       "34     96\n",
       "37    150\n",
       "39     90\n",
       "40     91\n",
       "Name: VIQ, dtype: int64"
      ]
     },
     "execution_count": 113,
     "metadata": {},
     "output_type": "execute_result"
    }
   ],
   "source": [
    "VIQ_male = df.loc[df['Gender'] == 'Male', 'VIQ']\n",
    "VIQ_male"
   ]
  },
  {
   "cell_type": "code",
   "execution_count": 114,
   "id": "0d6aa93f",
   "metadata": {},
   "outputs": [
    {
     "data": {
      "text/plain": [
       "1     132\n",
       "5     132\n",
       "6      90\n",
       "7     136\n",
       "8      90\n",
       "11    129\n",
       "14    120\n",
       "15    100\n",
       "16     71\n",
       "17    132\n",
       "19    112\n",
       "23    129\n",
       "25     86\n",
       "27     90\n",
       "29     83\n",
       "30    126\n",
       "31    126\n",
       "35     90\n",
       "36    129\n",
       "38     86\n",
       "Name: VIQ, dtype: int64"
      ]
     },
     "execution_count": 114,
     "metadata": {},
     "output_type": "execute_result"
    }
   ],
   "source": [
    "VIQ_female = df.loc[df['Gender'] == 'Female', 'VIQ']\n",
    "VIQ_female"
   ]
  },
  {
   "cell_type": "code",
   "execution_count": 115,
   "id": "f44f3551",
   "metadata": {},
   "outputs": [],
   "source": [
    "# Running a T-test \n",
    "from scipy import stats "
   ]
  },
  {
   "cell_type": "code",
   "execution_count": 131,
   "id": "cffd27f4",
   "metadata": {},
   "outputs": [
    {
     "data": {
      "text/plain": [
       "Ttest_indResult(statistic=0.7726161723275011, pvalue=0.44452876778583217)"
      ]
     },
     "execution_count": 131,
     "metadata": {},
     "output_type": "execute_result"
    }
   ],
   "source": [
    "t_test_VIQ = stats.ttest_ind(VIQ_male, VIQ_female)\n",
    "t_test_VIQ"
   ]
  },
  {
   "cell_type": "code",
   "execution_count": 132,
   "id": "9b37e538",
   "metadata": {},
   "outputs": [
    {
     "name": "stdout",
     "output_type": "stream",
     "text": [
      "Theres not enough evidence to conclude that the gender influences the VIQ\n"
     ]
    }
   ],
   "source": [
    "if t_test_VIQ.pvalue <0.05:\n",
    "    print('Theres enough evidence to conclude that the gender influences the VIQ')\n",
    "else:\n",
    "    print('Theres not enough evidence to conclude that the gender influences the VIQ' )\n"
   ]
  },
  {
   "cell_type": "markdown",
   "id": "70281c75",
   "metadata": {},
   "source": [
    "### Repeat the operation for the other two IQ measures."
   ]
  },
  {
   "cell_type": "code",
   "execution_count": 133,
   "id": "670d777e",
   "metadata": {},
   "outputs": [],
   "source": [
    "PIQ_female = df.loc[df['Gender'] == 'Female', 'PIQ']\n",
    "PIQ_male = df.loc[df['Gender'] == 'Male', 'PIQ']"
   ]
  },
  {
   "cell_type": "code",
   "execution_count": 134,
   "id": "69d46d99",
   "metadata": {},
   "outputs": [
    {
     "data": {
      "text/plain": [
       "Ttest_indResult(statistic=0.15980113150762698, pvalue=0.8738841403250049)"
      ]
     },
     "execution_count": 134,
     "metadata": {},
     "output_type": "execute_result"
    }
   ],
   "source": [
    "t_test_PIQ = stats.ttest_ind(PIQ_male, PIQ_female)\n",
    "t_test_PIQ"
   ]
  },
  {
   "cell_type": "code",
   "execution_count": 138,
   "id": "4aa8f970",
   "metadata": {},
   "outputs": [
    {
     "name": "stdout",
     "output_type": "stream",
     "text": [
      "Theres not enough evidence to conclude that the gender influences the PIQ\n"
     ]
    }
   ],
   "source": [
    "if t_test_PIQ.pvalue <0.05:\n",
    "    print('Theres enough evidence to conclude that the gender influences the PIQ')\n",
    "else:\n",
    "    print('Theres not enough evidence to conclude that the gender influences the PIQ' )\n"
   ]
  },
  {
   "cell_type": "code",
   "execution_count": 139,
   "id": "fa63d136",
   "metadata": {},
   "outputs": [],
   "source": [
    "FSIQ_female = df.loc[df['Gender'] == 'Female', 'FSIQ']\n",
    "FSIQ_male = df.loc[df['Gender'] == 'Male', 'FSIQ']"
   ]
  },
  {
   "cell_type": "code",
   "execution_count": 140,
   "id": "835fdf5c",
   "metadata": {},
   "outputs": [
    {
     "data": {
      "text/plain": [
       "Ttest_indResult(statistic=0.4026724743703011, pvalue=0.6894456253897778)"
      ]
     },
     "execution_count": 140,
     "metadata": {},
     "output_type": "execute_result"
    }
   ],
   "source": [
    "t_test_FSIQ = stats.ttest_ind(FSIQ_male, FSIQ_female)\n",
    "t_test_FSIQ"
   ]
  },
  {
   "cell_type": "code",
   "execution_count": 141,
   "id": "b911efe1",
   "metadata": {},
   "outputs": [
    {
     "name": "stdout",
     "output_type": "stream",
     "text": [
      "Theres not enough evidence to conclude that the gender influences the FSIQ\n"
     ]
    }
   ],
   "source": [
    "if t_test_FSIQ.pvalue <0.05:\n",
    "    print('Theres enough evidence to conclude that the gender influences the FSIQ')\n",
    "else:\n",
    "    print('Theres not enough evidence to conclude that the gender influences the FSIQ' )\n"
   ]
  },
  {
   "cell_type": "markdown",
   "id": "a5de5826",
   "metadata": {},
   "source": [
    "### PIQ, VIQ, and FSIQ give 3 measures of IQ. Are FISQ and PIQ significantly different? Use `scipy.stats.ttest_rel` to find out, and write down the p-value and the conclusion in plain English."
   ]
  },
  {
   "cell_type": "code",
   "execution_count": 143,
   "id": "be60eba7",
   "metadata": {},
   "outputs": [
    {
     "data": {
      "text/plain": [
       "Ttest_relResult(statistic=-1.7842019405859857, pvalue=0.08217263818364236)"
      ]
     },
     "execution_count": 143,
     "metadata": {},
     "output_type": "execute_result"
    }
   ],
   "source": [
    "ttest_rel = stats.ttest_rel(df['PIQ'], df['FSIQ'])\n",
    "ttest_rel"
   ]
  },
  {
   "cell_type": "code",
   "execution_count": 144,
   "id": "6e7bb03d",
   "metadata": {},
   "outputs": [
    {
     "name": "stdout",
     "output_type": "stream",
     "text": [
      "Theres not enough evidence to conclude that FISQ and PIQ significantly different\n"
     ]
    }
   ],
   "source": [
    "if ttest_rel.pvalue <0.05:\n",
    "    print('Theres enough evidence to conclude that FISQ and PIQ significantly different')\n",
    "else:\n",
    "    print('Theres not enough evidence to conclude that FISQ and PIQ significantly different' )\n"
   ]
  },
  {
   "cell_type": "markdown",
   "id": "e616a96b",
   "metadata": {},
   "source": [
    "### What are the mean and standard deviation of the Gaussian distribution that best approximates the female heights? Use `stats.norm.fit` for that."
   ]
  },
  {
   "cell_type": "code",
   "execution_count": 165,
   "id": "428e7c91",
   "metadata": {},
   "outputs": [
    {
     "data": {
      "text/plain": [
       "count    20.000000\n",
       "mean     65.765000\n",
       "std       2.288248\n",
       "min      62.000000\n",
       "25%      64.500000\n",
       "50%      66.000000\n",
       "75%      66.875000\n",
       "max      70.500000\n",
       "Name: Height, dtype: float64"
      ]
     },
     "execution_count": 165,
     "metadata": {},
     "output_type": "execute_result"
    }
   ],
   "source": [
    "female_average_height = df.loc[df['Gender'] == 'Female', 'Height']\n",
    "female_average_height.describe()"
   ]
  },
  {
   "cell_type": "code",
   "execution_count": 166,
   "id": "6acb97ec",
   "metadata": {},
   "outputs": [
    {
     "data": {
      "text/plain": [
       "(65.765, 2.2303082746562186)"
      ]
     },
     "execution_count": 166,
     "metadata": {},
     "output_type": "execute_result"
    }
   ],
   "source": [
    "norm_female = stats.norm.fit(female_average_height)\n",
    "norm_female"
   ]
  },
  {
   "cell_type": "markdown",
   "id": "59f66a9d",
   "metadata": {},
   "source": [
    "### Instatiate a Gaussian distribution with the mean and standard deviation values computed before. Are the female heights really distributed along this distribution? Use `scipy.stats.kstest` to find out, and write down the p-value and the conclusion in plain English.\n",
    "\n"
   ]
  },
  {
   "cell_type": "code",
   "execution_count": 167,
   "id": "1e3d175e",
   "metadata": {},
   "outputs": [],
   "source": [
    "gaussian_fem = stats.norm(norm_female[0], norm_female[1])"
   ]
  },
  {
   "cell_type": "code",
   "execution_count": 168,
   "id": "35dfb5f1",
   "metadata": {},
   "outputs": [
    {
     "data": {
      "text/plain": [
       "KstestResult(statistic=0.3, pvalue=0.33559098126008213)"
      ]
     },
     "execution_count": 168,
     "metadata": {},
     "output_type": "execute_result"
    }
   ],
   "source": [
    "ktest_fem = stats.kstest(female_average_height,gaussian_fem.rvs(20))\n",
    "ktest_fem"
   ]
  },
  {
   "cell_type": "code",
   "execution_count": 164,
   "id": "6dff1d82",
   "metadata": {},
   "outputs": [
    {
     "name": "stdout",
     "output_type": "stream",
     "text": [
      "Theres not enough evidence to conclude that the female height follows a Gaussian distribution\n"
     ]
    }
   ],
   "source": [
    "if ktest_fem.pvalue <0.05:\n",
    "    print('Theres enough evidence to conclude that the female height follows a Gaussian distribution')\n",
    "else:\n",
    "    print('Theres not enough evidence to conclude that the female height follows a Gaussian distribution' )\n"
   ]
  },
  {
   "cell_type": "markdown",
   "id": "94f43fa4",
   "metadata": {},
   "source": [
    "### Plot the Probability Density Function (PDF) of the distribution above. On the same axes, plot the Kernel Density Estimation (KDE) of the female heights. The expected result looks like this:"
   ]
  },
  {
   "cell_type": "code",
   "execution_count": 170,
   "id": "bff05001",
   "metadata": {},
   "outputs": [
    {
     "data": {
      "text/plain": [
       "<matplotlib.legend.Legend at 0x7fe74e7b8400>"
      ]
     },
     "execution_count": 170,
     "metadata": {},
     "output_type": "execute_result"
    },
    {
     "data": {
      "image/png": "[encoded data removed]",
      "text/plain": [
       "<Figure size 576x360 with 1 Axes>"
      ]
     },
     "metadata": {
      "needs_background": "light"
     },
     "output_type": "display_data"
    }
   ],
   "source": [
    "fig, ax = plt.subplots(figsize=(8,5)) \n",
    "PDF = np.linspace(norm_female[0] - 4*norm_female[1], norm_female[0] + 4*norm_female[1], num=len(female_average_height)) \n",
    "plt.plot(PDF, stats.norm.pdf(PDF, norm_female[0], norm_female[1]), label = 'Gaussian Fit')  \n",
    "female_average_height.plot.kde(ax=ax, label='Female Height', color =\"orange\") \n",
    "plt.legend()"
   ]
  },
  {
   "cell_type": "code",
   "execution_count": null,
   "id": "7e316b94",
   "metadata": {},
   "outputs": [],
   "source": []
  }
 ],
 "metadata": {
  "kernelspec": {
   "display_name": "Python 3",
   "language": "python",
   "name": "python3"
  },
  "language_info": {
   "codemirror_mode": {
    "name": "ipython",
    "version": 3
   },
   "file_extension": ".py",
   "mimetype": "text/x-python",
   "name": "python",
   "nbconvert_exporter": "python",
   "pygments_lexer": "ipython3",
   "version": "3.8.8"
  }
 },
 "nbformat": 4,
 "nbformat_minor": 5
}
